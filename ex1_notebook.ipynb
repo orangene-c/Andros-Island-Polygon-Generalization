{
 "cells": [
  {
   "cell_type": "markdown",
   "metadata": {},
   "source": [
    "# Exercise 1 - Generalization in Jupyter Notebook\n",
    "\n",
    "I understand that the notebook environment can be a bit overwhelming the first time. It's ok to feel that way. If you go step by step through this notebook, just like reading anything, you will have no problem completing the assignment. If you do get stuck, don't hesitate to reach out to me or a classmate. \n",
    "\n",
    "We want to be sure that you feel confident utilizing Esri products through the notebook environment. Esri provides amazing functionality through their two libraries, arcpy and arcgis. The [arcpy](http://pro.arcgis.com/en/pro-app/arcpy/get-started/what-is-arcpy-.htm) library is proprietary and provides the full suite of functions that exist within ArcPro (or if it doesn't, I haven't found that yet). The [arcgis](https://developers.arcgis.com/python/) library provides a subset of that functinoality, but is completely free. We will use both of these libraries throughout the semester, but in this notebook, we will only focus on arcpy.\n",
    "\n",
    "This is how you get access to arcpy in Jupyter (just like you would in ArcPro's scripting environment):"
   ]
  },
  {
   "cell_type": "code",
   "execution_count": 3,
   "metadata": {},
   "outputs": [],
   "source": [
    "import arcpy # execute this cell by clicking \"Run\" above or hitting \"shift + return\""
   ]
  },
  {
   "cell_type": "markdown",
   "metadata": {},
   "source": [
    "Here ^^ - by running the cell - we just imported the entire library, which includes much of the functions in Pro.\n",
    "\n",
    "In order to make our commands shorter, we can abbreviate the submodules like this:"
   ]
  },
  {
   "cell_type": "code",
   "execution_count": 4,
   "metadata": {},
   "outputs": [],
   "source": [
    "import arcpy.management as DM\n",
    "import arcpy.cartography as CA"
   ]
  },
  {
   "cell_type": "markdown",
   "metadata": {},
   "source": [
    "At this point in the notebook, you should get a sense that **there are two types of cells:**\n",
    "1. **Markdown** - where formatted text is placed (you can edit it by double clicked on the cell)\n",
    "2. **Code** - just like a script in ArcPro, you are able to execute python commands\n",
    "\n",
    "**To switch between the cell types**, you can use the drop down menu above next to the keyboard icon.\n",
    "\n",
    "These two types of cells are what make for a continous set of steps that allow anyone to see exactly what you've done and in what order you've done it. Anything that you can do in Python, you can do in this notebook, plus much more.\n"
   ]
  },
  {
   "cell_type": "code",
   "execution_count": 5,
   "metadata": {},
   "outputs": [
    {
     "name": "stdout",
     "output_type": "stream",
     "text": [
      "Jupyter Notebook Hello World\n"
     ]
    }
   ],
   "source": [
    "print(\"Jupyter Notebook Hello World\")"
   ]
  },
  {
   "cell_type": "markdown",
   "metadata": {},
   "source": [
    "# Exercise 1 Overview\n",
    "\n",
    "At this point in the notebook, you've already accomplished the first few objectives. In the following, we provide an overview what you should expect for Exercise 1.\n",
    "\n",
    "## Exercise 1 Objectives\n",
    "1. Be able to use the two types of notebook cells - markdown and code\n",
    "3. Be able to call functions from arcpy through Jupyter notebook\n",
    "    - be able to set environment workspace\n",
    "    - understand arcpy is a library that needs to be imported\n",
    "    - be able to use help documentation to understand function syntax\n",
    "    - be able to execute cells by clicking \"Run\"\n",
    "5. Reflect on Jupyter; compare and contrast with accessing GIS through Pro\n",
    "\n",
    "## Deliverables\n",
    "1. An edited version of this Jupyter notebook containing\n",
    "    - edited markdown and code blocks where indicated\n",
    "    - writeup in markdown answering the questions at the **Jupyter Writeup** section\n",
    "2. Download final notebook, correctly named, as a PDF and upload to course site with your ArcPro writeup\n",
    "    - name notebook using class convention (the file name consists of the first four letters of your last name, followed by the first letter of your first name, and the digits 01 for the first exercise)\n",
    "    \n",
    "## Overview of Steps\n",
    "1. **Read or watch** the following background information\n",
    "    - *Read* sections *\"1. What is Jupyter Notebooks\"* and *\"3. Running the Jupyter Notebook\"* at [Jupyter/IPython Quick Start Guide](https://jupyter-notebook-beginner-guide.readthedocs.io/en/latest/)\n",
    "    - *Watch* the Quick introduction to Jupyter Notebook (link: [video](https://www.youtube.com/watch?v=jZ952vChhuI))\n",
    "    - *Read* help page on using the [Generalization Toolset](http://pro.arcgis.com/en/pro-app/tool-reference/cartography/an-overview-of-the-generalization-toolset.htm) in python\n",
    "2. **Edit** this jupyter notebook where indicated below\n"
   ]
  },
  {
   "cell_type": "markdown",
   "metadata": {},
   "source": [
    "## Set Workspace\n",
    "Replace the file path below with a path to where your files are stored. Notice that I point mine to my exercise 1 geodatabase."
   ]
  },
  {
   "cell_type": "code",
   "execution_count": 8,
   "metadata": {},
   "outputs": [],
   "source": [
    "arcpy.env.workspace = 'C:/Users/runck014/Documents/5571exercise1/5571_ex1.gdb' ##<<< DELETE AND REPLACE"
   ]
  },
  {
   "cell_type": "markdown",
   "metadata": {},
   "source": [
    "Next, we want to see what is in our workspace. We can use the arcpy.ListFeatureClasses() function to do this combined with a simple for loop."
   ]
  },
  {
   "cell_type": "code",
   "execution_count": 9,
   "metadata": {},
   "outputs": [
    {
     "name": "stdout",
     "output_type": "stream",
     "text": [
      "andros_poly_SmoothPolygon\n",
      "andros_poly_CopyFeatures\n",
      "andros_poly_CopyFeatures1\n",
      "andros_poly_CopyFeatures1_Pnt\n"
     ]
    }
   ],
   "source": [
    "featureclasses = arcpy.ListFeatureClasses()\n",
    "\n",
    "for fc in featureclasses:\n",
    "    print(fc)"
   ]
  },
  {
   "cell_type": "markdown",
   "metadata": {},
   "source": [
    "We could also just output the entire array."
   ]
  },
  {
   "cell_type": "code",
   "execution_count": 20,
   "metadata": {},
   "outputs": [
    {
     "data": {
      "text/plain": [
       "['andros_poly_SmoothPolygon',\n",
       " 'andros_poly_CopyFeatures',\n",
       " 'andros_poly_CopyFeatures1',\n",
       " 'andros_poly_CopyFeatures1_Pnt']"
      ]
     },
     "execution_count": 20,
     "metadata": {},
     "output_type": "execute_result"
    }
   ],
   "source": [
    "featureclasses"
   ]
  },
  {
   "cell_type": "markdown",
   "metadata": {},
   "source": [
    "**WARNING: If you do not see your Andros data above, you did not set your workspace path correctly.**"
   ]
  },
  {
   "cell_type": "markdown",
   "metadata": {},
   "source": [
    "## Overview of Generalization in Jupyter\n",
    "Generalization in jupyter notebooks uses the same python commands available through Pro. They can be found [here](http://pro.arcgis.com/en/pro-app/tool-reference/cartography/an-overview-of-the-generalization-toolset.htm). For example, the  the following two code blocks simplify a polygon:"
   ]
  },
  {
   "cell_type": "code",
   "execution_count": 17,
   "metadata": {},
   "outputs": [],
   "source": [
    "path_to_features = 'andros_poly_CopyFeatures' ## Name of file you want to apply generalization to\n",
    "output_path_features = 'andros_poly_CopyFeatures3' ## Name of output file (will error if you don't change name)"
   ]
  },
  {
   "cell_type": "code",
   "execution_count": 18,
   "metadata": {},
   "outputs": [
    {
     "data": {
      "text/plain": [
       "<Result 'C:/Users/runck014/Documents/5571exercise1/5571_ex1.gdb\\\\andros_poly_CopyFeatures3'>"
      ]
     },
     "execution_count": 18,
     "metadata": {},
     "output_type": "execute_result"
    }
   ],
   "source": [
    "CA.SimplifyPolygon(in_features=path_to_features,\n",
    "                   out_feature_class=output_path_features,\n",
    "                  algorithm='BEND_SIMPLIFY',\n",
    "                  tolerance=10)"
   ]
  },
  {
   "cell_type": "markdown",
   "metadata": {},
   "source": [
    "If you go back to pro and refresh your geodatabase, you should see the new file that you just created and be able to visualize it in Pro."
   ]
  },
  {
   "cell_type": "markdown",
   "metadata": {},
   "source": [
    "## Jupyter Assignment\n",
    "\n",
    "1. Select two generalization tools that you used in Pro and run them in Jupyter.\n",
    "2. Provide markwon descriptions and code comments for why you're doing what you're doing."
   ]
  },
  {
   "cell_type": "code",
   "execution_count": null,
   "metadata": {},
   "outputs": [],
   "source": [
    "## add more cells as needed"
   ]
  },
  {
   "cell_type": "code",
   "execution_count": null,
   "metadata": {},
   "outputs": [],
   "source": []
  },
  {
   "cell_type": "markdown",
   "metadata": {},
   "source": [
    "# Jupyter Writeup"
   ]
  },
  {
   "cell_type": "markdown",
   "metadata": {},
   "source": [
    "### What are the pros and cons of using Jupyter compared to ArcPro for generalization?\n",
    "\n",
    "**>> provide response here**"
   ]
  },
  {
   "cell_type": "markdown",
   "metadata": {},
   "source": [
    "### How comfortable do you feel with the basic functions of jupyter notebooks (markdown editing, running code blocks, workflow)?\n",
    "\n",
    "**>> provide response here**"
   ]
  },
  {
   "cell_type": "markdown",
   "metadata": {},
   "source": [
    "### How long did this portion of the exercise take you?\n",
    "\n",
    "**>> provide response here**"
   ]
  },
  {
   "cell_type": "markdown",
   "metadata": {},
   "source": [
    "# Where to from here?\n",
    "In this notebook, we've missed out on one of the coolest aspects of Jupyter - inline visualization. Just to give you a sense of where we will be going, consider the following."
   ]
  },
  {
   "cell_type": "code",
   "execution_count": 23,
   "metadata": {},
   "outputs": [],
   "source": [
    "from arcgis.gis import GIS"
   ]
  },
  {
   "cell_type": "code",
   "execution_count": 25,
   "metadata": {},
   "outputs": [
    {
     "data": {
      "application/vnd.jupyter.widget-view+json": {
       "model_id": "36ff687276fb4f2984752b848ce34f8c",
       "version_major": 2,
       "version_minor": 0
      },
      "text/plain": [
       "MapView(basemaps=['dark-gray', 'dark-gray-vector', 'gray', 'gray-vector', 'hybrid', 'national-geographic', 'oc…"
      ]
     },
     "metadata": {},
     "output_type": "display_data"
    }
   ],
   "source": [
    "gis = GIS(\"pro\")\n",
    "gis.map('Andros')"
   ]
  },
  {
   "cell_type": "markdown",
   "metadata": {},
   "source": [
    "In the future, we will use arcgis to publish features to ArcOnline. If you didn't look at the examples from Esri yet cover what is possible, there are a lot of cool notebooks [here](http://notebooks.esri.com)."
   ]
  },
  {
   "cell_type": "code",
   "execution_count": null,
   "metadata": {},
   "outputs": [],
   "source": []
  }
 ],
 "metadata": {
  "kernelspec": {
   "display_name": "Python 3",
   "language": "python",
   "name": "python3"
  },
  "language_info": {
   "codemirror_mode": {
    "name": "ipython",
    "version": 3
   },
   "file_extension": ".py",
   "mimetype": "text/x-python",
   "name": "python",
   "nbconvert_exporter": "python",
   "pygments_lexer": "ipython3",
   "version": "3.6.5"
  }
 },
 "nbformat": 4,
 "nbformat_minor": 2
}
