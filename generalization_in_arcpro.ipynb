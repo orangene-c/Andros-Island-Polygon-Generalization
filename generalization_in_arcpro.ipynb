{
 "cells": [
  {
   "cell_type": "markdown",
   "metadata": {},
   "source": [
    "# Generalization in Jupyter Notebook\n",
    "\n",
    "Esri provides amazing functionality through their two libraries, `arcpy` and `arcgis`. The [arcpy](http://pro.arcgis.com/en/pro-app/arcpy/get-started/what-is-arcpy-.htm) library is proprietary and provides the full suite of functions that exist within ArcPro (or if it doesn't, I haven't found that yet). The [arcgis](https://developers.arcgis.com/python/) library provides a subset of that functinoality, but is completely free. In this notebook, we will only focus on arcpy.\n",
    "\n",
    "## Objectives\n",
    "1. Be able to call functions from `arcpy` through Jupyter notebook\n",
    "    - be able to set environment workspace\n",
    "    - understand `arcpy` is a library that needs to be imported\n",
    "    - be able to use help documentation to understand function syntax\n",
    "2. Reflect on Jupyter; compare and contrast with accessing GIS through Pro"
   ]
  },
  {
   "cell_type": "code",
   "execution_count": 3,
   "metadata": {},
   "outputs": [],
   "source": [
    "import arcpy"
   ]
  },
  {
   "cell_type": "markdown",
   "metadata": {},
   "source": [
    "By running the above cell, we just imported the entire library, which includes much of the functions in Pro.\n",
    "\n",
    "In order to make our commands shorter, we can abbreviate the submodules like this:"
   ]
  },
  {
   "cell_type": "code",
   "execution_count": 4,
   "metadata": {},
   "outputs": [],
   "source": [
    "import arcpy.management as DM\n",
    "import arcpy.cartography as CA"
   ]
  },
  {
   "cell_type": "markdown",
   "metadata": {},
   "source": [
    "## Set Workspace\n",
    "Replace the file path below with a path to where your files are stored."
   ]
  },
  {
   "cell_type": "code",
   "execution_count": 8,
   "metadata": {},
   "outputs": [],
   "source": [
    "arcpy.env.workspace = 'C:/Users/ing/Desktop/chenz01/chenz01.gdb'"
   ]
  },
  {
   "cell_type": "markdown",
   "metadata": {},
   "source": [
    "Next, we want to see what is in our workspace. We can use the `arcpy.ListFeatureClasses()` function to do this combined with a simple for loop."
   ]
  },
  {
   "cell_type": "code",
   "execution_count": 9,
   "metadata": {},
   "outputs": [
    {
     "name": "stdout",
     "output_type": "stream",
     "text": [
      "andros_poly_SmoothPolygon\n",
      "andros_poly_CopyFeatures\n",
      "andros_poly_CopyFeatures1\n",
      "andros_poly_CopyFeatures1_Pnt\n"
     ]
    }
   ],
   "source": [
    "featureclasses = arcpy.ListFeatureClasses()\n",
    "\n",
    "for fc in featureclasses:\n",
    "    print(fc)"
   ]
  },
  {
   "cell_type": "markdown",
   "metadata": {},
   "source": [
    "We could also just output the entire array."
   ]
  },
  {
   "cell_type": "code",
   "execution_count": 20,
   "metadata": {},
   "outputs": [
    {
     "data": {
      "text/plain": [
       "['andros_poly_SmoothPolygon',\n",
       " 'andros_poly_CopyFeatures',\n",
       " 'andros_poly_CopyFeatures1',\n",
       " 'andros_poly_CopyFeatures1_Pnt']"
      ]
     },
     "execution_count": 20,
     "metadata": {},
     "output_type": "execute_result"
    }
   ],
   "source": [
    "featureclasses"
   ]
  },
  {
   "cell_type": "markdown",
   "metadata": {},
   "source": [
    "**WARNING: If you do not see your Andros data above, you did not set your workspace path correctly.**"
   ]
  },
  {
   "cell_type": "markdown",
   "metadata": {},
   "source": [
    "## Overview of Generalization in Jupyter\n",
    "Generalization in jupyter notebooks uses the same python commands available through Pro. They can be found [here](http://pro.arcgis.com/en/pro-app/tool-reference/cartography/an-overview-of-the-generalization-toolset.htm). For example, the  the following two code blocks simplify a polygon:"
   ]
  },
  {
   "cell_type": "code",
   "execution_count": 17,
   "metadata": {},
   "outputs": [],
   "source": [
    "path_to_features = 'andros0_arc_SmoothL1toPol' \n",
    "output_path_features = 'andros_output1' "
   ]
  },
  {
   "cell_type": "code",
   "execution_count": null,
   "metadata": {},
   "outputs": [],
   "source": [
    "CA.SimplifyPolygon(in_features=path_to_features,\n",
    "                   out_feature_class=output_path_features,\n",
    "                  algorithm='BEND_SIMPLIFY',\n",
    "                  tolerance=10)"
   ]
  },
  {
   "cell_type": "markdown",
   "metadata": {},
   "source": [
    "If you go back to pro and refresh your geodatabase, you should see the new file that you just created and be able to visualize it in Pro."
   ]
  },
  {
   "cell_type": "markdown",
   "metadata": {},
   "source": [
    "## Jupyter Assignment\n",
    "\n",
    "1. Select two generalization tools that you used in Pro and run them in Jupyter.\n",
    "2. Provide markwon descriptions and code comments for why you're doing what you're doing."
   ]
  },
  {
   "cell_type": "code",
   "execution_count": null,
   "metadata": {},
   "outputs": [],
   "source": [
    "path_to_features = 'andros0_arc_SmoothL1toPol'\n",
    "output_path_features = 'andros_output2' "
   ]
  },
  {
   "cell_type": "code",
   "execution_count": null,
   "metadata": {},
   "outputs": [],
   "source": [
    "CA.SimplifyPolygon(in_features=path_to_features,\n",
    "                  out_feature_class=output_path_features,\n",
    "                  algorithm='POINT_REMOVE',\n",
    "                  tolerance=1000)  ## I use the Simplify Polygon Tool and choose the Douglas-Peucker algorithm with the 1000-meter tolerance"
   ]
  },
  {
   "cell_type": "code",
   "execution_count": null,
   "metadata": {},
   "outputs": [],
   "source": [
    "path_to_features = 'andros_output2'\n",
    "output_path_features = 'andros_output3' "
   ]
  },
  {
   "cell_type": "code",
   "execution_count": null,
   "metadata": {},
   "outputs": [],
   "source": [
    "CA.SmoothPolygon(in_features=path_to_features,\n",
    "                out_feature_class=output_path_features,\n",
    "                algorithm='PAEK',\n",
    "                tolerance=1500)  ## I use the Smooth Polygon Tool and choose the PAEK algorithm with 1500-meter tolerance"
   ]
  },
  {
   "cell_type": "markdown",
   "metadata": {},
   "source": [
    "# Jupyter Writeup"
   ]
  },
  {
   "cell_type": "markdown",
   "metadata": {},
   "source": [
    "### What are the pros and cons of using Jupyter compared to ArcPro for generalization?\n",
    "\n",
    "**PROS:**\n",
    "1. Jupyter notebook provides both the front-end and back-end environment for generalization, which is more professional and can help better recognize the basic theory as well.\n",
    "2. Project with large quantity of dataset would not slow down the process of generalization.\n",
    "3. The markdown in Jupyter notebook is in some way like a notebook, which can help users better understanding each command.\n",
    "\n",
    "**CONS:**\n",
    "1. Jupyter notebook is a more complicated way of running tool and analyzing data than ArcPro, which would be more difficult for the new learners.\n",
    "2. Jupyter notebook needs to type code for each command, which can be more frequently causing an error."
   ]
  },
  {
   "cell_type": "markdown",
   "metadata": {},
   "source": [
    "### How comfortable do you feel with the basic functions of jupyter notebooks (markdown editing, running code blocks, workflow)?\n",
    "\n",
    "I think Jupyter notebook is a really interesting and advanced way of providing analysis. Markdown can help understanding and share ideas with others. Running code blocks makes it more efficient and less time for waiting, even the data is very big. Workflow makes each steps clear as well."
   ]
  },
  {
   "cell_type": "code",
   "execution_count": null,
   "metadata": {},
   "outputs": [],
   "source": []
  }
 ],
 "metadata": {
  "kernelspec": {
   "display_name": "Python 3",
   "language": "python",
   "name": "python3"
  },
  "language_info": {
   "codemirror_mode": {
    "name": "ipython",
    "version": 3
   },
   "file_extension": ".py",
   "mimetype": "text/x-python",
   "name": "python",
   "nbconvert_exporter": "python",
   "pygments_lexer": "ipython3",
   "version": "3.6.5"
  }
 },
 "nbformat": 4,
 "nbformat_minor": 2
}
